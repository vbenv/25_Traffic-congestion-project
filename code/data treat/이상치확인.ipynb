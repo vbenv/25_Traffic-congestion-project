{
 "cells": [
  {
   "cell_type": "code",
   "execution_count": 1,
   "metadata": {},
   "outputs": [],
   "source": [
    "import pandas as pd"
   ]
  },
  {
   "cell_type": "markdown",
   "metadata": {},
   "source": [
    "### df 읽고 처리하기"
   ]
  },
  {
   "cell_type": "code",
   "execution_count": 2,
   "metadata": {},
   "outputs": [
    {
     "name": "stderr",
     "output_type": "stream",
     "text": [
      "/var/folders/0t/0jprd7f95qsb1p_xmw35n4l80000gn/T/ipykernel_35545/3343547820.py:3: DtypeWarning: Columns (25) have mixed types. Specify dtype option on import or set low_memory=False.\n",
      "  gaepo_df = pd.read_csv(\"개포로_통행속도_기상.csv\", encoding='cp949')\n"
     ]
    },
    {
     "name": "stdout",
     "output_type": "stream",
     "text": [
      "올림픽대로 결측치 수 :  1279\n",
      "개포로 결측치 수 :  825\n",
      "논현로 결측치 수 :  1047\n",
      "도곡로 결측치 수 :  660\n"
     ]
    }
   ],
   "source": [
    "# 파일 읽기\n",
    "olym_df = pd.read_csv(\"올림픽대로_통행속도_기상.csv\", encoding='cp949')\n",
    "gaepo_df = pd.read_csv(\"개포로_통행속도_기상.csv\", encoding='cp949')\n",
    "nonhyun_df = pd.read_csv(\"논현로_통행속도_기상.csv\", encoding='cp949')\n",
    "dogog_df = pd.read_csv(\"도곡로_통행속도_기상.csv\", encoding='cp949')\n",
    "\n",
    "# 결측치 확인\n",
    "print('올림픽대로 결측치 수 : ',olym_df['속도'].isna().sum())\n",
    "print('개포로 결측치 수 : ',gaepo_df['속도'].isna().sum())\n",
    "print('논현로 결측치 수 : ',nonhyun_df['속도'].isna().sum())\n",
    "print('도곡로 결측치 수 : ',dogog_df['속도'].isna().sum())"
   ]
  },
  {
   "cell_type": "code",
   "execution_count": 3,
   "metadata": {},
   "outputs": [
    {
     "name": "stdout",
     "output_type": "stream",
     "text": [
      "올림픽대로 결측치 수 :  0\n",
      "개포로 결측치 수 :  0\n",
      "논현로 결측치 수 :  0\n",
      "도곡로 결측치 수 :  0\n"
     ]
    }
   ],
   "source": [
    "def fill_missing_values(df):\n",
    "    # 일시 컬럼을 datetime 형식으로 변환\n",
    "    df['일시'] = pd.to_datetime(df['일시'])\n",
    "    \n",
    "    # 시간 추출\n",
    "    df['hour'] = df['일시'].dt.hour\n",
    "    \n",
    "    # 각 결측치에 대해\n",
    "    null_indices = df[df['속도'].isnull()].index\n",
    "    \n",
    "    for idx in null_indices:\n",
    "        current_row = df.loc[idx]\n",
    "        \n",
    "        # 현재 결측치의 조건과 동일한 데이터 필터링\n",
    "        same_conditions = (\n",
    "            (df['링크아이디'] == current_row['링크아이디']) & \n",
    "            (df['hour'] == current_row['hour']) & \n",
    "            (df['isHoliday'] == current_row['isHoliday']) &\n",
    "            (df['속도'].notnull())  # 결측치가 아닌 데이터만\n",
    "        )\n",
    "        \n",
    "        # 조건에 맞는 평균 속도 계산\n",
    "        mean_speed = df[same_conditions]['속도'].mean()\n",
    "        \n",
    "        # 만약 조건에 맞는 데이터가 없다면 (mean_speed가 NaN이라면)\n",
    "        # 휴일 조건을 제외하고 다시 계산\n",
    "        if pd.isna(mean_speed):\n",
    "            same_conditions = (\n",
    "                (df['링크아이디'] == current_row['링크아이디']) & \n",
    "                (df['hour'] == current_row['hour']) &\n",
    "                (df['속도'].notnull())\n",
    "            )\n",
    "            mean_speed = df[same_conditions]['속도'].mean()\n",
    "        \n",
    "        # 여전히 평균을 구할 수 없다면 전체 링크아이디의 해당 시간대 평균 사용\n",
    "        if pd.isna(mean_speed):\n",
    "            same_conditions = (\n",
    "                (df['hour'] == current_row['hour']) &\n",
    "                (df['속도'].notnull())\n",
    "            )\n",
    "            mean_speed = df[same_conditions]['속도'].mean()\n",
    "        \n",
    "        # 결측치 채우기\n",
    "        df.loc[idx, '속도'] = mean_speed\n",
    "        \n",
    "    return df\n",
    "\n",
    "# 사용 예시:\n",
    "olym_df = fill_missing_values(olym_df.copy())\n",
    "gaepo_df = fill_missing_values(gaepo_df.copy())\n",
    "nonhyun_df = fill_missing_values(nonhyun_df.copy())\n",
    "dogog_df = fill_missing_values(dogog_df.copy())\n",
    "\n",
    "print('올림픽대로 결측치 수 : ',olym_df['속도'].isna().sum())\n",
    "print('개포로 결측치 수 : ',gaepo_df['속도'].isna().sum())\n",
    "print('논현로 결측치 수 : ',nonhyun_df['속도'].isna().sum())\n",
    "print('도곡로 결측치 수 : ',dogog_df['속도'].isna().sum())"
   ]
  },
  {
   "cell_type": "markdown",
   "metadata": {},
   "source": [
    "## 이상치 파악하기"
   ]
  },
  {
   "cell_type": "markdown",
   "metadata": {},
   "source": [
    "### 올림픽대로"
   ]
  },
  {
   "cell_type": "code",
   "execution_count": 9,
   "metadata": {},
   "outputs": [
    {
     "data": {
      "text/plain": [
       "0         기타도로\n",
       "1         기타도로\n",
       "2         기타도로\n",
       "3         기타도로\n",
       "4         기타도로\n",
       "          ... \n",
       "525955    기타도로\n",
       "525956    기타도로\n",
       "525957    기타도로\n",
       "525958    기타도로\n",
       "525959    기타도로\n",
       "Name: 기능유형구분, Length: 525960, dtype: object"
      ]
     },
     "execution_count": 9,
     "metadata": {},
     "output_type": "execute_result"
    }
   ],
   "source": [
    "gaepo_df['기능유형구분']"
   ]
  },
  {
   "cell_type": "code",
   "execution_count": 7,
   "metadata": {},
   "outputs": [
    {
     "data": {
      "text/plain": [
       "array([1220008200, 1220020500, 1220020400, 1220018700, 1220017300,\n",
       "       1220015700, 1220012100, 1220008300, 1220013700, 1220012000,\n",
       "       1220013600, 1220015600, 1220017200, 1220018600, 1220007000])"
      ]
     },
     "execution_count": 7,
     "metadata": {},
     "output_type": "execute_result"
    }
   ],
   "source": [
    "gaepo_df['링크아이디'].unique()"
   ]
  },
  {
   "cell_type": "code",
   "execution_count": 37,
   "metadata": {},
   "outputs": [
    {
     "data": {
      "text/html": [
       "<div>\n",
       "<style scoped>\n",
       "    .dataframe tbody tr th:only-of-type {\n",
       "        vertical-align: middle;\n",
       "    }\n",
       "\n",
       "    .dataframe tbody tr th {\n",
       "        vertical-align: top;\n",
       "    }\n",
       "\n",
       "    .dataframe thead th {\n",
       "        text-align: right;\n",
       "    }\n",
       "</style>\n",
       "<table border=\"1\" class=\"dataframe\">\n",
       "  <thead>\n",
       "    <tr style=\"text-align: right;\">\n",
       "      <th></th>\n",
       "      <th>링크아이디</th>\n",
       "      <th>속도</th>\n",
       "      <th>일시</th>\n",
       "      <th>hour</th>\n",
       "    </tr>\n",
       "  </thead>\n",
       "  <tbody>\n",
       "    <tr>\n",
       "      <th>264744</th>\n",
       "      <td>1220005400</td>\n",
       "      <td>6.25</td>\n",
       "      <td>2024-10-15 09:00:00</td>\n",
       "      <td>9</td>\n",
       "    </tr>\n",
       "    <tr>\n",
       "      <th>114388</th>\n",
       "      <td>1220005400</td>\n",
       "      <td>6.25</td>\n",
       "      <td>2022-08-19 18:00:00</td>\n",
       "      <td>18</td>\n",
       "    </tr>\n",
       "    <tr>\n",
       "      <th>107679</th>\n",
       "      <td>1220005400</td>\n",
       "      <td>6.33</td>\n",
       "      <td>2022-07-15 19:00:00</td>\n",
       "      <td>19</td>\n",
       "    </tr>\n",
       "    <tr>\n",
       "      <th>270779</th>\n",
       "      <td>1220005400</td>\n",
       "      <td>6.50</td>\n",
       "      <td>2024-11-15 19:00:00</td>\n",
       "      <td>19</td>\n",
       "    </tr>\n",
       "    <tr>\n",
       "      <th>104792</th>\n",
       "      <td>1220005400</td>\n",
       "      <td>6.67</td>\n",
       "      <td>2022-06-30 19:00:00</td>\n",
       "      <td>19</td>\n",
       "    </tr>\n",
       "    <tr>\n",
       "      <th>...</th>\n",
       "      <td>...</td>\n",
       "      <td>...</td>\n",
       "      <td>...</td>\n",
       "      <td>...</td>\n",
       "    </tr>\n",
       "    <tr>\n",
       "      <th>119758</th>\n",
       "      <td>1220005600</td>\n",
       "      <td>11.42</td>\n",
       "      <td>2022-09-16 17:00:00</td>\n",
       "      <td>17</td>\n",
       "    </tr>\n",
       "    <tr>\n",
       "      <th>254581</th>\n",
       "      <td>1220005700</td>\n",
       "      <td>11.42</td>\n",
       "      <td>2024-08-21 19:00:00</td>\n",
       "      <td>19</td>\n",
       "    </tr>\n",
       "    <tr>\n",
       "      <th>269423</th>\n",
       "      <td>1220005600</td>\n",
       "      <td>11.42</td>\n",
       "      <td>2024-11-08 17:00:00</td>\n",
       "      <td>17</td>\n",
       "    </tr>\n",
       "    <tr>\n",
       "      <th>250808</th>\n",
       "      <td>1220004500</td>\n",
       "      <td>11.42</td>\n",
       "      <td>2024-07-30 19:00:00</td>\n",
       "      <td>19</td>\n",
       "    </tr>\n",
       "    <tr>\n",
       "      <th>187739</th>\n",
       "      <td>1220005700</td>\n",
       "      <td>11.42</td>\n",
       "      <td>2023-09-05 19:00:00</td>\n",
       "      <td>19</td>\n",
       "    </tr>\n",
       "  </tbody>\n",
       "</table>\n",
       "<p>1000 rows × 4 columns</p>\n",
       "</div>"
      ],
      "text/plain": [
       "             링크아이디     속도                  일시  hour\n",
       "264744  1220005400   6.25 2024-10-15 09:00:00     9\n",
       "114388  1220005400   6.25 2022-08-19 18:00:00    18\n",
       "107679  1220005400   6.33 2022-07-15 19:00:00    19\n",
       "270779  1220005400   6.50 2024-11-15 19:00:00    19\n",
       "104792  1220005400   6.67 2022-06-30 19:00:00    19\n",
       "...            ...    ...                 ...   ...\n",
       "119758  1220005600  11.42 2022-09-16 17:00:00    17\n",
       "254581  1220005700  11.42 2024-08-21 19:00:00    19\n",
       "269423  1220005600  11.42 2024-11-08 17:00:00    17\n",
       "250808  1220004500  11.42 2024-07-30 19:00:00    19\n",
       "187739  1220005700  11.42 2023-09-05 19:00:00    19\n",
       "\n",
       "[1000 rows x 4 columns]"
      ]
     },
     "execution_count": 37,
     "metadata": {},
     "output_type": "execute_result"
    }
   ],
   "source": [
    "# 시간대별 속도의 1분위수(25%) 계산\n",
    "speed_quantiles = olym_df.groupby('hour')['속도'].transform(lambda x: x.quantile(0.25))\n",
    "\n",
    "# 각 시간대별 1분위수 이하인 데이터만 필터링\n",
    "ideal_olym = olym_df[olym_df['속도'] <= speed_quantiles][['링크아이디','속도', '일시', 'hour']].sort_values('속도', ascending=True)\n",
    "ideal_olym.groupby('일시').count().sort_values('링크아이디', ascending=False).head(30)\n",
    "ideal_olym.head(1000)"
   ]
  },
  {
   "cell_type": "markdown",
   "metadata": {},
   "source": [
    "### 올림픽대로 외 다른 데이터 이상치 확인"
   ]
  },
  {
   "cell_type": "code",
   "execution_count": 33,
   "metadata": {},
   "outputs": [
    {
     "name": "stdout",
     "output_type": "stream",
     "text": [
      "\t\t<도곡로 속도 순위>\n",
      "              링크아이디     속도                  일시  hour\n",
      "91633   1220025700  58.36 2021-11-15 04:00:00     4\n",
      "114113  1220025700  58.02 2022-02-01 05:00:00     5\n",
      "197339  1220025700  57.79 2022-11-17 04:00:00     4\n",
      "246855  1220025700  57.74 2023-05-08 03:00:00     3\n",
      "126786  1220025700  56.20 2022-03-17 05:00:00     5\n",
      "138006  1220025700  56.16 2022-04-25 04:00:00     4\n",
      "108633  1220025700  56.00 2022-01-13 04:00:00     4\n",
      "14748   1220025700  55.83 2021-02-21 05:00:00     5\n",
      "56209   1220025700  55.78 2021-07-15 04:00:00     4\n",
      "216942  1220025700  55.56 2023-01-24 06:00:00     6\n",
      "\n",
      "\t\t<개포로 속도 순위>\n",
      "              링크아이디     속도                  일시  hour\n",
      "21272   1220018600  49.10 2021-03-01 02:00:00     2\n",
      "15566   1220012100  47.36 2021-02-13 05:00:00     5\n",
      "81090   1220018600  46.35 2021-08-14 06:00:00     6\n",
      "76743   1220018600  45.94 2021-08-02 04:00:00     4\n",
      "400371  1220018700  45.37 2024-01-18 03:00:00     3\n",
      "391752  1220018700  45.22 2023-12-25 04:00:00     4\n",
      "397510  1220018700  44.75 2024-01-10 04:00:00     4\n",
      "175394  1220018700  44.73 2022-05-03 04:00:00     4\n",
      "364041  1220012100  44.58 2023-10-09 05:00:00     5\n",
      "24549   1220018600  44.55 2021-03-10 04:00:00     4\n",
      "\n",
      "\t\t<논현로 속도 순위>\n",
      "              링크아이디     속도                  일시  hour\n",
      "487569  1220037100  69.37 2023-12-06 05:00:00     5\n",
      "517685  1220037100  67.92 2024-02-10 06:00:00     6\n",
      "485747  1220037100  67.47 2023-12-02 05:00:00     5\n",
      "454740  1220037100  67.01 2023-09-25 05:00:00     5\n",
      "342575  1220037100  66.93 2023-01-22 06:00:00     6\n",
      "281473  1220037100  66.85 2022-09-10 06:00:00     6\n",
      "597891  1220037100  66.83 2024-08-04 03:00:00     3\n",
      "167466  1220037100  66.73 2022-01-03 06:00:00     6\n",
      "597894  1220037100  66.58 2024-08-04 04:00:00     4\n",
      "518567  1220037100  66.56 2024-02-12 05:00:00     5\n"
     ]
    }
   ],
   "source": [
    "# 도곡로 속도 데이터 정렬\n",
    "ideal_dogog = dogog_df[['링크아이디','속도', '일시', 'hour']].sort_values('속도', ascending=False)\n",
    "print('\\t\\t<도곡로 속도 순위>\\n',ideal_dogog.head(10))\n",
    "\n",
    "# 개포로 속도 데이터 정렬\n",
    "ideal_gaepo = gaepo_df[['링크아이디','속도', '일시', 'hour']].sort_values('속도', ascending=False)\n",
    "print('\\n\\t\\t<개포로 속도 순위>\\n',ideal_gaepo.head(10))\n",
    "\n",
    "# 논현로 속도 데이터 정렬\n",
    "ideal_nonhyun = nonhyun_df[['링크아이디','속도', '일시', 'hour']].sort_values('속도', ascending=False)\n",
    "print('\\n\\t\\t<논현로 속도 순위>\\n',ideal_nonhyun.head(10))"
   ]
  },
  {
   "cell_type": "code",
   "execution_count": 24,
   "metadata": {},
   "outputs": [
    {
     "data": {
      "text/plain": [
       "Index(['일자', '요일', '도로명', '링크아이디', '시점명', '종점명', '방향', '거리', '차선수', '기능유형구분',\n",
       "       '도심/외곽구분', '권역구분', '시간', '속도', '일시', '지점', '지점명', '기온(°C)', '강수량(mm)',\n",
       "       '풍속(m/s)', '풍향(16방위)', '적설(cm)', 'seq', 'dateKind', 'isHoliday',\n",
       "       'dateName', 'hour'],\n",
       "      dtype='object')"
      ]
     },
     "execution_count": 24,
     "metadata": {},
     "output_type": "execute_result"
    }
   ],
   "source": [
    "dogog_df.keys()"
   ]
  },
  {
   "cell_type": "code",
   "execution_count": 26,
   "metadata": {},
   "outputs": [
    {
     "data": {
      "text/html": [
       "<div>\n",
       "<style scoped>\n",
       "    .dataframe tbody tr th:only-of-type {\n",
       "        vertical-align: middle;\n",
       "    }\n",
       "\n",
       "    .dataframe tbody tr th {\n",
       "        vertical-align: top;\n",
       "    }\n",
       "\n",
       "    .dataframe thead th {\n",
       "        text-align: right;\n",
       "    }\n",
       "</style>\n",
       "<table border=\"1\" class=\"dataframe\">\n",
       "  <thead>\n",
       "    <tr style=\"text-align: right;\">\n",
       "      <th></th>\n",
       "      <th>링크아이디</th>\n",
       "      <th>시점명</th>\n",
       "      <th>종점명</th>\n",
       "      <th>권역구분</th>\n",
       "      <th>지점</th>\n",
       "      <th>지점명</th>\n",
       "    </tr>\n",
       "  </thead>\n",
       "  <tbody>\n",
       "    <tr>\n",
       "      <th>0</th>\n",
       "      <td>1220020800</td>\n",
       "      <td>한티역</td>\n",
       "      <td>영동세브란스</td>\n",
       "      <td>강남구</td>\n",
       "      <td>108</td>\n",
       "      <td>서울</td>\n",
       "    </tr>\n",
       "    <tr>\n",
       "      <th>1</th>\n",
       "      <td>1220016700</td>\n",
       "      <td>싸리고개공원입구</td>\n",
       "      <td>도곡1동주민센터</td>\n",
       "      <td>강남구</td>\n",
       "      <td>108</td>\n",
       "      <td>서울</td>\n",
       "    </tr>\n",
       "    <tr>\n",
       "      <th>2</th>\n",
       "      <td>1220015400</td>\n",
       "      <td>싸리고개공원입구</td>\n",
       "      <td>뱅뱅사거리</td>\n",
       "      <td>강남구</td>\n",
       "      <td>108</td>\n",
       "      <td>서울</td>\n",
       "    </tr>\n",
       "    <tr>\n",
       "      <th>3</th>\n",
       "      <td>1220016600</td>\n",
       "      <td>도곡1동주민센터</td>\n",
       "      <td>싸리고개공원입구</td>\n",
       "      <td>강남구</td>\n",
       "      <td>108</td>\n",
       "      <td>서울</td>\n",
       "    </tr>\n",
       "    <tr>\n",
       "      <th>4</th>\n",
       "      <td>1220019000</td>\n",
       "      <td>영동세브란스</td>\n",
       "      <td>도곡1동주민센터</td>\n",
       "      <td>강남구</td>\n",
       "      <td>108</td>\n",
       "      <td>서울</td>\n",
       "    </tr>\n",
       "    <tr>\n",
       "      <th>...</th>\n",
       "      <td>...</td>\n",
       "      <td>...</td>\n",
       "      <td>...</td>\n",
       "      <td>...</td>\n",
       "      <td>...</td>\n",
       "      <td>...</td>\n",
       "    </tr>\n",
       "    <tr>\n",
       "      <th>420763</th>\n",
       "      <td>1220020800</td>\n",
       "      <td>한티역</td>\n",
       "      <td>강남세브란스</td>\n",
       "      <td>강남구</td>\n",
       "      <td>108</td>\n",
       "      <td>서울</td>\n",
       "    </tr>\n",
       "    <tr>\n",
       "      <th>420764</th>\n",
       "      <td>1220019000</td>\n",
       "      <td>강남세브란스</td>\n",
       "      <td>도곡1동주민센터</td>\n",
       "      <td>강남구</td>\n",
       "      <td>108</td>\n",
       "      <td>서울</td>\n",
       "    </tr>\n",
       "    <tr>\n",
       "      <th>420765</th>\n",
       "      <td>1220015400</td>\n",
       "      <td>싸리고개공원입구</td>\n",
       "      <td>뱅뱅사거리</td>\n",
       "      <td>강남구</td>\n",
       "      <td>108</td>\n",
       "      <td>서울</td>\n",
       "    </tr>\n",
       "    <tr>\n",
       "      <th>420766</th>\n",
       "      <td>1220025700</td>\n",
       "      <td>대치동우성아파트</td>\n",
       "      <td>탄천2교</td>\n",
       "      <td>강남구</td>\n",
       "      <td>108</td>\n",
       "      <td>서울</td>\n",
       "    </tr>\n",
       "    <tr>\n",
       "      <th>420767</th>\n",
       "      <td>1220024300</td>\n",
       "      <td>은마아파트입구</td>\n",
       "      <td>대치동우성아파트</td>\n",
       "      <td>강남구</td>\n",
       "      <td>108</td>\n",
       "      <td>서울</td>\n",
       "    </tr>\n",
       "  </tbody>\n",
       "</table>\n",
       "<p>420768 rows × 6 columns</p>\n",
       "</div>"
      ],
      "text/plain": [
       "             링크아이디       시점명       종점명 권역구분   지점 지점명\n",
       "0       1220020800       한티역    영동세브란스  강남구  108  서울\n",
       "1       1220016700  싸리고개공원입구  도곡1동주민센터  강남구  108  서울\n",
       "2       1220015400  싸리고개공원입구     뱅뱅사거리  강남구  108  서울\n",
       "3       1220016600  도곡1동주민센터  싸리고개공원입구  강남구  108  서울\n",
       "4       1220019000    영동세브란스  도곡1동주민센터  강남구  108  서울\n",
       "...            ...       ...       ...  ...  ...  ..\n",
       "420763  1220020800       한티역    강남세브란스  강남구  108  서울\n",
       "420764  1220019000    강남세브란스  도곡1동주민센터  강남구  108  서울\n",
       "420765  1220015400  싸리고개공원입구     뱅뱅사거리  강남구  108  서울\n",
       "420766  1220025700  대치동우성아파트      탄천2교  강남구  108  서울\n",
       "420767  1220024300   은마아파트입구  대치동우성아파트  강남구  108  서울\n",
       "\n",
       "[420768 rows x 6 columns]"
      ]
     },
     "execution_count": 26,
     "metadata": {},
     "output_type": "execute_result"
    }
   ],
   "source": [
    "dogog_df[['링크아이디', '시점명', '종점명','권역구분','지점', '지점명']]"
   ]
  },
  {
   "cell_type": "code",
   "execution_count": 34,
   "metadata": {},
   "outputs": [
    {
     "name": "stdout",
     "output_type": "stream",
     "text": [
      "\t\t<도곡로 기능유형구분>\n",
      "\n",
      "['보조간선도로']\n",
      "\n",
      "\t\t<개포로 기능유형구분>\n",
      "\n",
      "['기타도로']\n",
      "\n",
      "\t\t<논현로 기능유형구분>\n",
      "\n",
      "['주간선도로']\n"
     ]
    }
   ],
   "source": [
    "# 도곡로 기능유형구분 확인\n",
    "print('\\t\\t<도곡로 기능유형구분>\\n')\n",
    "print(dogog_df['기능유형구분'].unique())\n",
    "\n",
    "# 개포로 기능유형구분 확인 \n",
    "print('\\n\\t\\t<개포로 기능유형구분>\\n')\n",
    "print(gaepo_df['기능유형구분'].unique())\n",
    "\n",
    "# 논현로 기능유형구분 확인\n",
    "print('\\n\\t\\t<논현로 기능유형구분>\\n') \n",
    "print(nonhyun_df['기능유형구분'].unique())\n"
   ]
  },
  {
   "cell_type": "code",
   "execution_count": null,
   "metadata": {},
   "outputs": [],
   "source": []
  }
 ],
 "metadata": {
  "kernelspec": {
   "display_name": "sun_chnn",
   "language": "python",
   "name": "python3"
  },
  "language_info": {
   "codemirror_mode": {
    "name": "ipython",
    "version": 3
   },
   "file_extension": ".py",
   "mimetype": "text/x-python",
   "name": "python",
   "nbconvert_exporter": "python",
   "pygments_lexer": "ipython3",
   "version": "3.10.14"
  }
 },
 "nbformat": 4,
 "nbformat_minor": 2
}
